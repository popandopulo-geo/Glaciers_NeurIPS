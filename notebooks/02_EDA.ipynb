{
 "cells": [
  {
   "cell_type": "code",
   "execution_count": 9,
   "metadata": {},
   "outputs": [],
   "source": [
    "import os \n",
    "import os.path as osp\n",
    "import sys\n",
    "import glob\n",
    "\n",
    "sys.path.insert(0, osp.abspath(osp.join(os.getcwd(), '..')))\n",
    "\n",
    "import pandas as pd\n",
    "\n",
    "from src.config import Config\n",
    "\n",
    "PROJECT_ROOT = '..'"
   ]
  },
  {
   "cell_type": "code",
   "execution_count": 8,
   "metadata": {},
   "outputs": [],
   "source": [
    "config_path = osp.join(PROJECT_ROOT, 'config.json')\n",
    "config = Config(config_path=config_path)"
   ]
  },
  {
   "cell_type": "markdown",
   "metadata": {},
   "source": [
    "## Filter valid images by visual perception"
   ]
  },
  {
   "cell_type": "code",
   "execution_count": 18,
   "metadata": {},
   "outputs": [],
   "source": [
    "filenames = glob.glob(osp.join(PROJECT_ROOT, config.paths.rgb, '*.png'))\n",
    "filenames = [osp.basename(f) for f in filenames]\n",
    "filenames = [osp.splitext(f)[0] + '.tif' for f in filenames]"
   ]
  },
  {
   "cell_type": "code",
   "execution_count": 22,
   "metadata": {},
   "outputs": [],
   "source": [
    "df = pd.DataFrame(filenames, columns=['filename'])\n",
    "df.to_csv(osp.join(PROJECT_ROOT, config.paths.root, 'filtered_images.csv'), index=False)"
   ]
  },
  {
   "cell_type": "code",
   "execution_count": null,
   "metadata": {},
   "outputs": [],
   "source": []
  }
 ],
 "metadata": {
  "kernelspec": {
   "display_name": "venv",
   "language": "python",
   "name": "python3"
  },
  "language_info": {
   "codemirror_mode": {
    "name": "ipython",
    "version": 3
   },
   "file_extension": ".py",
   "mimetype": "text/x-python",
   "name": "python",
   "nbconvert_exporter": "python",
   "pygments_lexer": "ipython3",
   "version": "3.12.0"
  }
 },
 "nbformat": 4,
 "nbformat_minor": 2
}
